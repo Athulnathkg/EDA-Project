{
 "cells": [
  {
   "cell_type": "markdown",
   "metadata": {},
   "source": [
    "# Introduction\n",
    "\n",
    "The dataset is a comprehensive transactional record containing 10,000 rows and 15 columns, capturing customer, product, and sales information. Each transaction is uniquely identified by a TransactionID and includes details such as the CustomerName, contact information,and ShippingAddress. The dataset also records the Date and Time of the transaction, the ProductName, and the quantity purchased. Pricing information is detailed through the Price and TotalAmount. Payment methods are categorized under PaymentMethod, while the OrderStatus indicates the progress of each transaction.Customer experience is captured through the CustomerFeedback column, which has some missing values. Additionally, the Region column provides geographic insights into customer distribution. This dataset is rich with information for analyzing purchasing behavior, sales trends, and customer satisfaction.\n",
    "To analyze the dataset, we start by examining its structure and summary statistics using libraries like pandas and numpy. This includes identifying the data types, checking for missing values, and calculating metrics such as mean, median, and standard deviation. For visualization, we use matplotlib and seaborn to create histograms, scatter plots, and bar charts."
   ]
  },
  {
   "cell_type": "markdown",
   "metadata": {},
   "source": [
    "IMPORT ALL LIBRARIES THAT IS NEEDED FOR THE PROJECT"
   ]
  },
  {
   "cell_type": "code",
   "execution_count": 2,
   "metadata": {},
   "outputs": [],
   "source": [
    "import pandas as pd\n",
    "import numpy as np\n",
    "import matplotlib.pyplot as plt\n",
    "import seaborn as sns "
   ]
  },
  {
   "cell_type": "markdown",
   "metadata": {},
   "source": [
    "IMPORT THE DATA FRAME "
   ]
  },
  {
   "cell_type": "code",
   "execution_count": 3,
   "metadata": {},
   "outputs": [
    {
     "name": "stdout",
     "output_type": "stream",
     "text": [
      "     TransactionID         CustomerName        Date      Time  \\\n",
      "0           T00001         Jordan Davis  2024-09-21  03:14:03   \n",
      "1           T00002          Heather Lee  2024-04-13  16:52:41   \n",
      "2           T00003          Sean Steele  2024-08-28  18:51:28   \n",
      "3           T00004         Manuel Weber  2024-04-10  00:47:48   \n",
      "4           T00005       Michael Jordan  2024-02-26  02:18:27   \n",
      "...            ...                  ...         ...       ...   \n",
      "9995        T09996         Karen Walker  2024-06-16  06:24:42   \n",
      "9996        T09997    Elizabeth Gregory  2024-04-12  00:56:51   \n",
      "9997        T09998         John Johnson  2024-07-19  16:46:50   \n",
      "9998        T09999       Tami Fuller MD  2024-10-14  16:04:33   \n",
      "9999        T10000  Francisco Alexander  2024-10-15  17:53:36   \n",
      "\n",
      "                           Email             PhoneNumber   ProductName  \\\n",
      "0          beckyritter@gmail.com     (310)263-2091x10329  Gaming Mouse   \n",
      "1     thayes@chambers-rivers.net      728-788-1755x31093    Smartphone   \n",
      "2              gowen@krueger.com            180.990.1564        Laptop   \n",
      "3            erica47@hotmail.com     (517)830-8835x27293  Gaming Mouse   \n",
      "4            rogersmary@rowe.com            007-838-8658  Gaming Mouse   \n",
      "...                          ...                     ...           ...   \n",
      "9995   yjohnson@leach-nelson.com              7332794629    Smartphone   \n",
      "9996      mccluresarah@allen.com              9897458606    Smartphone   \n",
      "9997     cantrelldavid@gmail.com            534-659-8212    Smartphone   \n",
      "9998         zstafford@gmail.com  001-168-189-4463x54994  Gaming Mouse   \n",
      "9999  richardaguirre@hotmail.com           (046)641-4606    Headphones   \n",
      "\n",
      "      Quantity   Price  TotalAmount PaymentMethod  \\\n",
      "0            1  421.69       995.96          Cash   \n",
      "1            3  337.23       881.37   Credit Card   \n",
      "2            4   68.32      4312.18          Cash   \n",
      "3            4   44.54      1535.82          Cash   \n",
      "4            3  771.03      1758.13   Credit Card   \n",
      "...        ...     ...          ...           ...   \n",
      "9995         3  123.61      3817.22        Online   \n",
      "9996         5  337.95      1782.84        Online   \n",
      "9997         2  429.52      2939.75   Credit Card   \n",
      "9998         1  918.71      4237.49          Cash   \n",
      "9999         5  372.41       398.69        Online   \n",
      "\n",
      "                                        ShippingAddress OrderStatus  \\\n",
      "0     994 Clark River Apt. 025, South Susantown, CA ...     Pending   \n",
      "1                                 USS Kim, FPO AA 16176     Pending   \n",
      "2     57238 Thomas Fort Apt. 773, West Markville, HI...     Pending   \n",
      "3     091 Chen Greens Suite 878, Michelleville, MI 0...     Shipped   \n",
      "4     803 Estrada Isle Suite 515, Lake Deanna, ME 76612   Delivered   \n",
      "...                                                 ...         ...   \n",
      "9995           4188 Robinson Club, Mariamouth, AZ 13000     Pending   \n",
      "9996             6032 Judy Village, Glennfort, RI 91987     Pending   \n",
      "9997    59752 Moore Estates, East Melissafort, WV 07686   Delivered   \n",
      "9998              404 Sally Field, Brianshire, OH 84605   Delivered   \n",
      "9999  90575 Nicholas Coves Apt. 097, East Stephanie,...     Shipped   \n",
      "\n",
      "           CustomerFeedback      Region  \n",
      "0           Arrived on time       South  \n",
      "1           Arrived on time  North West  \n",
      "2           Arrived on time  West Coast  \n",
      "3     Packaging was damaged       South  \n",
      "4           Arrived on time  North West  \n",
      "...                     ...         ...  \n",
      "9995        Arrived on time       South  \n",
      "9996              Satisfied  West Coast  \n",
      "9997  Packaging was damaged  North East  \n",
      "9998              Satisfied  North West  \n",
      "9999  Packaging was damaged  North East  \n",
      "\n",
      "[10000 rows x 15 columns]\n"
     ]
    }
   ],
   "source": [
    "import pandas as pd\n",
    "df=pd.read_csv(\"/Users/almas/Documents/Data_analystics/ABIJITH CL/Abijith CL/Large_Sample_Dataset_15_Columns.csv\")\n",
    "print(df)"
   ]
  },
  {
   "cell_type": "markdown",
   "metadata": {},
   "source": [
    "ANALYSE BY CHECKING FIRST 10 ROWS"
   ]
  },
  {
   "cell_type": "code",
   "execution_count": 4,
   "metadata": {},
   "outputs": [
    {
     "name": "stdout",
     "output_type": "stream",
     "text": [
      "  TransactionID     CustomerName        Date      Time  \\\n",
      "0        T00001     Jordan Davis  2024-09-21  03:14:03   \n",
      "1        T00002      Heather Lee  2024-04-13  16:52:41   \n",
      "2        T00003      Sean Steele  2024-08-28  18:51:28   \n",
      "3        T00004     Manuel Weber  2024-04-10  00:47:48   \n",
      "4        T00005   Michael Jordan  2024-02-26  02:18:27   \n",
      "5        T00006    Michael Avila  2024-02-21  13:14:01   \n",
      "6        T00007    Kaitlyn Davis  2024-09-21  09:49:07   \n",
      "7        T00008     Ann Thompson  2024-11-19  14:32:16   \n",
      "8        T00009  Calvin Thompson  2024-04-09  01:56:44   \n",
      "9        T00010       Devin Rice  2024-08-04  21:23:08   \n",
      "\n",
      "                         Email          PhoneNumber   ProductName  Quantity  \\\n",
      "0        beckyritter@gmail.com  (310)263-2091x10329  Gaming Mouse         1   \n",
      "1   thayes@chambers-rivers.net   728-788-1755x31093    Smartphone         3   \n",
      "2            gowen@krueger.com         180.990.1564        Laptop         4   \n",
      "3          erica47@hotmail.com  (517)830-8835x27293  Gaming Mouse         4   \n",
      "4          rogersmary@rowe.com         007-838-8658  Gaming Mouse         3   \n",
      "5    jamesvalenzuela@gmail.com           3224149363  Gaming Mouse         4   \n",
      "6      jgraves@torres-hunt.com   (634)953-4197x3061    Headphones         4   \n",
      "7  heatherrobinson@vasquez.com    166-344-6788x1821    Smartphone         4   \n",
      "8     matthew57@kim-hughes.org        (020)317-1800    Smartphone         5   \n",
      "9        diazjeffery@yahoo.com  (656)565-7629x90438        Laptop         5   \n",
      "\n",
      "    Price  TotalAmount PaymentMethod  \\\n",
      "0  421.69       995.96          Cash   \n",
      "1  337.23       881.37   Credit Card   \n",
      "2   68.32      4312.18          Cash   \n",
      "3   44.54      1535.82          Cash   \n",
      "4  771.03      1758.13   Credit Card   \n",
      "5  576.22       939.81   Credit Card   \n",
      "6  608.43      2923.46          Cash   \n",
      "7  813.73      1550.62   Credit Card   \n",
      "8  542.75      3460.93   Credit Card   \n",
      "9  289.85      1407.51        Online   \n",
      "\n",
      "                                     ShippingAddress OrderStatus  \\\n",
      "0  994 Clark River Apt. 025, South Susantown, CA ...     Pending   \n",
      "1                              USS Kim, FPO AA 16176     Pending   \n",
      "2  57238 Thomas Fort Apt. 773, West Markville, HI...     Pending   \n",
      "3  091 Chen Greens Suite 878, Michelleville, MI 0...     Shipped   \n",
      "4  803 Estrada Isle Suite 515, Lake Deanna, ME 76612   Delivered   \n",
      "5                   Unit 1792 Box 4495, DPO AP 34465     Shipped   \n",
      "6                   Unit 4414 Box 9018, DPO AP 78578   Delivered   \n",
      "7       7775 Gray Manors, West Patriciaton, NE 35875   Delivered   \n",
      "8            648 Jennifer Port, New Sharon, NV 96036     Shipped   \n",
      "9     864 Brown Falls Apt. 004, Port Brian, DC 90038     Shipped   \n",
      "\n",
      "        CustomerFeedback      Region  \n",
      "0        Arrived on time       South  \n",
      "1        Arrived on time  North West  \n",
      "2        Arrived on time  West Coast  \n",
      "3  Packaging was damaged       South  \n",
      "4        Arrived on time  North West  \n",
      "5              Satisfied  North West  \n",
      "6          Great service  North West  \n",
      "7                    NaN       South  \n",
      "8        Arrived on time  North West  \n",
      "9          Great service       South  \n"
     ]
    }
   ],
   "source": [
    "print(df.head(10))"
   ]
  },
  {
   "cell_type": "markdown",
   "metadata": {},
   "source": [
    "ANALYSE BY CHECKING LAST 10 ROWS "
   ]
  },
  {
   "cell_type": "code",
   "execution_count": 5,
   "metadata": {},
   "outputs": [
    {
     "name": "stdout",
     "output_type": "stream",
     "text": [
      "     TransactionID         CustomerName        Date      Time  \\\n",
      "9990        T09991         Kyle Patrick  2024-01-25  16:41:34   \n",
      "9991        T09992        Collin Mccann  2024-09-02  21:13:55   \n",
      "9992        T09993        Rebecca Adams  2024-01-14  00:16:13   \n",
      "9993        T09994      Jonathan Nelson  2024-03-11  21:10:53   \n",
      "9994        T09995        Wayne Pittman  2024-06-13  08:25:54   \n",
      "9995        T09996         Karen Walker  2024-06-16  06:24:42   \n",
      "9996        T09997    Elizabeth Gregory  2024-04-12  00:56:51   \n",
      "9997        T09998         John Johnson  2024-07-19  16:46:50   \n",
      "9998        T09999       Tami Fuller MD  2024-10-14  16:04:33   \n",
      "9999        T10000  Francisco Alexander  2024-10-15  17:53:36   \n",
      "\n",
      "                            Email             PhoneNumber   ProductName  \\\n",
      "9990      marshallbrett@young.org       459.550.2999x1071        Laptop   \n",
      "9991            kyle52@hansen.biz    001-382-175-2434x914        Laptop   \n",
      "9992              ann91@gmail.com           (250)819-2371    Headphones   \n",
      "9993       joshuahill@hotmail.com       (838)547-4762x431    Headphones   \n",
      "9994  jonathankennedy@hotmail.com           (141)274-9300        Laptop   \n",
      "9995    yjohnson@leach-nelson.com              7332794629    Smartphone   \n",
      "9996       mccluresarah@allen.com              9897458606    Smartphone   \n",
      "9997      cantrelldavid@gmail.com            534-659-8212    Smartphone   \n",
      "9998          zstafford@gmail.com  001-168-189-4463x54994  Gaming Mouse   \n",
      "9999   richardaguirre@hotmail.com           (046)641-4606    Headphones   \n",
      "\n",
      "      Quantity   Price  TotalAmount PaymentMethod  \\\n",
      "9990         5  130.24      3395.29          Cash   \n",
      "9991         3  902.36      1665.04          Cash   \n",
      "9992         2  668.91      1744.81   Credit Card   \n",
      "9993         1   52.74      3214.19          Cash   \n",
      "9994         3  995.16      2725.48   Credit Card   \n",
      "9995         3  123.61      3817.22        Online   \n",
      "9996         5  337.95      1782.84        Online   \n",
      "9997         2  429.52      2939.75   Credit Card   \n",
      "9998         1  918.71      4237.49          Cash   \n",
      "9999         5  372.41       398.69        Online   \n",
      "\n",
      "                                        ShippingAddress OrderStatus  \\\n",
      "9990  78632 Michael Station Suite 540, Port Evan, HI...     Shipped   \n",
      "9991          52838 Williams Well, North Leah, MN 96134     Pending   \n",
      "9992    1972 Medina Station, South Walterside, ME 50765     Shipped   \n",
      "9993    1070 Carlson Vista, Port Samanthaberg, NY 33915     Shipped   \n",
      "9994  012 Matthew Mountain, North Micheleburgh, ME 9...   Delivered   \n",
      "9995           4188 Robinson Club, Mariamouth, AZ 13000     Pending   \n",
      "9996             6032 Judy Village, Glennfort, RI 91987     Pending   \n",
      "9997    59752 Moore Estates, East Melissafort, WV 07686   Delivered   \n",
      "9998              404 Sally Field, Brianshire, OH 84605   Delivered   \n",
      "9999  90575 Nicholas Coves Apt. 097, East Stephanie,...     Shipped   \n",
      "\n",
      "           CustomerFeedback      Region  \n",
      "9990  Packaging was damaged  North East  \n",
      "9991        Arrived on time  North East  \n",
      "9992              Satisfied  South East  \n",
      "9993        Arrived on time  North East  \n",
      "9994              Satisfied  North East  \n",
      "9995        Arrived on time       South  \n",
      "9996              Satisfied  West Coast  \n",
      "9997  Packaging was damaged  North East  \n",
      "9998              Satisfied  North West  \n",
      "9999  Packaging was damaged  North East  \n"
     ]
    }
   ],
   "source": [
    "print(df.tail(10))"
   ]
  },
  {
   "cell_type": "markdown",
   "metadata": {},
   "source": [
    "CHECKING BASIC INFORMATION ABOUT THE DATA "
   ]
  },
  {
   "cell_type": "code",
   "execution_count": 6,
   "metadata": {},
   "outputs": [
    {
     "name": "stdout",
     "output_type": "stream",
     "text": [
      "<class 'pandas.core.frame.DataFrame'>\n",
      "RangeIndex: 10000 entries, 0 to 9999\n",
      "Data columns (total 15 columns):\n",
      " #   Column            Non-Null Count  Dtype  \n",
      "---  ------            --------------  -----  \n",
      " 0   TransactionID     10000 non-null  object \n",
      " 1   CustomerName      10000 non-null  object \n",
      " 2   Date              10000 non-null  object \n",
      " 3   Time              10000 non-null  object \n",
      " 4   Email             10000 non-null  object \n",
      " 5   PhoneNumber       10000 non-null  object \n",
      " 6   ProductName       10000 non-null  object \n",
      " 7   Quantity          10000 non-null  int64  \n",
      " 8   Price             10000 non-null  float64\n",
      " 9   TotalAmount       10000 non-null  float64\n",
      " 10  PaymentMethod     10000 non-null  object \n",
      " 11  ShippingAddress   10000 non-null  object \n",
      " 12  OrderStatus       10000 non-null  object \n",
      " 13  CustomerFeedback  7981 non-null   object \n",
      " 14  Region            10000 non-null  object \n",
      "dtypes: float64(2), int64(1), object(12)\n",
      "memory usage: 1.1+ MB\n",
      "None\n"
     ]
    }
   ],
   "source": [
    "print(df.info())"
   ]
  },
  {
   "cell_type": "markdown",
   "metadata": {},
   "source": [
    "CHECKING THE NULL VALUES AND EMPTY SETS COLUMNWISE"
   ]
  },
  {
   "cell_type": "code",
   "execution_count": 7,
   "metadata": {},
   "outputs": [
    {
     "name": "stdout",
     "output_type": "stream",
     "text": [
      "TransactionID          0\n",
      "CustomerName           0\n",
      "Date                   0\n",
      "Time                   0\n",
      "Email                  0\n",
      "PhoneNumber            0\n",
      "ProductName            0\n",
      "Quantity               0\n",
      "Price                  0\n",
      "TotalAmount            0\n",
      "PaymentMethod          0\n",
      "ShippingAddress        0\n",
      "OrderStatus            0\n",
      "CustomerFeedback    2019\n",
      "Region                 0\n",
      "dtype: int64\n"
     ]
    }
   ],
   "source": [
    "print(df.isna().sum())"
   ]
  },
  {
   "cell_type": "markdown",
   "metadata": {},
   "source": [
    "CHECKING THE NULL VALUES AND EMPTY SETS IN TOTAL"
   ]
  },
  {
   "cell_type": "code",
   "execution_count": 8,
   "metadata": {},
   "outputs": [
    {
     "name": "stdout",
     "output_type": "stream",
     "text": [
      "2019\n"
     ]
    }
   ],
   "source": [
    "print(df.isna().sum().sum())"
   ]
  },
  {
   "cell_type": "markdown",
   "metadata": {},
   "source": [
    "REMOVE ROWS "
   ]
  },
  {
   "cell_type": "code",
   "execution_count": 9,
   "metadata": {},
   "outputs": [
    {
     "name": "stdout",
     "output_type": "stream",
     "text": [
      "     TransactionID         CustomerName        Date      Time  \\\n",
      "0           T00001         Jordan Davis  2024-09-21  03:14:03   \n",
      "1           T00002          Heather Lee  2024-04-13  16:52:41   \n",
      "2           T00003          Sean Steele  2024-08-28  18:51:28   \n",
      "3           T00004         Manuel Weber  2024-04-10  00:47:48   \n",
      "4           T00005       Michael Jordan  2024-02-26  02:18:27   \n",
      "...            ...                  ...         ...       ...   \n",
      "9995        T09996         Karen Walker  2024-06-16  06:24:42   \n",
      "9996        T09997    Elizabeth Gregory  2024-04-12  00:56:51   \n",
      "9997        T09998         John Johnson  2024-07-19  16:46:50   \n",
      "9998        T09999       Tami Fuller MD  2024-10-14  16:04:33   \n",
      "9999        T10000  Francisco Alexander  2024-10-15  17:53:36   \n",
      "\n",
      "                           Email             PhoneNumber   ProductName  \\\n",
      "0          beckyritter@gmail.com     (310)263-2091x10329  Gaming Mouse   \n",
      "1     thayes@chambers-rivers.net      728-788-1755x31093    Smartphone   \n",
      "2              gowen@krueger.com            180.990.1564        Laptop   \n",
      "3            erica47@hotmail.com     (517)830-8835x27293  Gaming Mouse   \n",
      "4            rogersmary@rowe.com            007-838-8658  Gaming Mouse   \n",
      "...                          ...                     ...           ...   \n",
      "9995   yjohnson@leach-nelson.com              7332794629    Smartphone   \n",
      "9996      mccluresarah@allen.com              9897458606    Smartphone   \n",
      "9997     cantrelldavid@gmail.com            534-659-8212    Smartphone   \n",
      "9998         zstafford@gmail.com  001-168-189-4463x54994  Gaming Mouse   \n",
      "9999  richardaguirre@hotmail.com           (046)641-4606    Headphones   \n",
      "\n",
      "      Quantity   Price  TotalAmount PaymentMethod  \\\n",
      "0            1  421.69       995.96          Cash   \n",
      "1            3  337.23       881.37   Credit Card   \n",
      "2            4   68.32      4312.18          Cash   \n",
      "3            4   44.54      1535.82          Cash   \n",
      "4            3  771.03      1758.13   Credit Card   \n",
      "...        ...     ...          ...           ...   \n",
      "9995         3  123.61      3817.22        Online   \n",
      "9996         5  337.95      1782.84        Online   \n",
      "9997         2  429.52      2939.75   Credit Card   \n",
      "9998         1  918.71      4237.49          Cash   \n",
      "9999         5  372.41       398.69        Online   \n",
      "\n",
      "                                        ShippingAddress OrderStatus  \\\n",
      "0     994 Clark River Apt. 025, South Susantown, CA ...     Pending   \n",
      "1                                 USS Kim, FPO AA 16176     Pending   \n",
      "2     57238 Thomas Fort Apt. 773, West Markville, HI...     Pending   \n",
      "3     091 Chen Greens Suite 878, Michelleville, MI 0...     Shipped   \n",
      "4     803 Estrada Isle Suite 515, Lake Deanna, ME 76612   Delivered   \n",
      "...                                                 ...         ...   \n",
      "9995           4188 Robinson Club, Mariamouth, AZ 13000     Pending   \n",
      "9996             6032 Judy Village, Glennfort, RI 91987     Pending   \n",
      "9997    59752 Moore Estates, East Melissafort, WV 07686   Delivered   \n",
      "9998              404 Sally Field, Brianshire, OH 84605   Delivered   \n",
      "9999  90575 Nicholas Coves Apt. 097, East Stephanie,...     Shipped   \n",
      "\n",
      "           CustomerFeedback      Region  \n",
      "0           Arrived on time       South  \n",
      "1           Arrived on time  North West  \n",
      "2           Arrived on time  West Coast  \n",
      "3     Packaging was damaged       South  \n",
      "4           Arrived on time  North West  \n",
      "...                     ...         ...  \n",
      "9995        Arrived on time       South  \n",
      "9996              Satisfied  West Coast  \n",
      "9997  Packaging was damaged  North East  \n",
      "9998              Satisfied  North West  \n",
      "9999  Packaging was damaged  North East  \n",
      "\n",
      "[7981 rows x 15 columns]\n"
     ]
    }
   ],
   "source": [
    "print(df.dropna())"
   ]
  },
  {
   "cell_type": "markdown",
   "metadata": {},
   "source": [
    "REMOVE ALL NULL VALUES AND EMPTY SETS"
   ]
  },
  {
   "cell_type": "code",
   "execution_count": 10,
   "metadata": {},
   "outputs": [],
   "source": [
    "df.dropna(inplace=True)"
   ]
  },
  {
   "cell_type": "markdown",
   "metadata": {},
   "source": [
    "REPLACE THE EMPTY SETS WITH A VALUE"
   ]
  },
  {
   "cell_type": "code",
   "execution_count": 11,
   "metadata": {},
   "outputs": [],
   "source": [
    "# df.fillna(99,inplace=True)"
   ]
  },
  {
   "cell_type": "markdown",
   "metadata": {},
   "source": [
    "REPLACE THE EMPTY VALUE FOR ONE COLUMN"
   ]
  },
  {
   "cell_type": "code",
   "execution_count": 12,
   "metadata": {},
   "outputs": [],
   "source": [
    "# df[\"column_name\"].fillna(99,inplace=True)"
   ]
  },
  {
   "cell_type": "markdown",
   "metadata": {},
   "source": [
    "REPLACE THE EMPTY VALUE WITH MEAN"
   ]
  },
  {
   "cell_type": "code",
   "execution_count": 13,
   "metadata": {},
   "outputs": [],
   "source": [
    "# x=df[\"column_name\"].mean()\n",
    "# df[\"column_name\"].fillna(x,inplace=True)\n"
   ]
  },
  {
   "cell_type": "markdown",
   "metadata": {},
   "source": [
    "REPLACE THE EMPTY VALUE WITH THE MEDIAN"
   ]
  },
  {
   "cell_type": "code",
   "execution_count": 14,
   "metadata": {},
   "outputs": [],
   "source": [
    "# x=df[\"column_name\"].median()\n",
    "# df[\"column_name\"].fillna(x,inplace=True)"
   ]
  },
  {
   "cell_type": "markdown",
   "metadata": {},
   "source": [
    "REPLACE THE EMPTY VALUE WITH THE MODE"
   ]
  },
  {
   "cell_type": "code",
   "execution_count": 15,
   "metadata": {},
   "outputs": [],
   "source": [
    "# x=df[\"column_name\"].mode()\n",
    "# df[\"column_name\"].fillna(x,inplace=True)"
   ]
  },
  {
   "cell_type": "markdown",
   "metadata": {},
   "source": [
    "CHECKING THE DATE FORMAT"
   ]
  },
  {
   "cell_type": "markdown",
   "metadata": {},
   "source": [
    "CONVERTING TO THE ORIGINAL DATE FORMAT"
   ]
  },
  {
   "cell_type": "code",
   "execution_count": 16,
   "metadata": {},
   "outputs": [],
   "source": [
    "df[\"Date\"]=pd.to_datetime(df[\"Date\"])"
   ]
  },
  {
   "cell_type": "markdown",
   "metadata": {},
   "source": [
    "REMOVING THE NULL VALUES IN DATE COLUMN"
   ]
  },
  {
   "cell_type": "code",
   "execution_count": 17,
   "metadata": {},
   "outputs": [],
   "source": [
    "df[\"date\"]=pd.to_datetime(df[\"Date\"])\n",
    "df.dropna(subset=[\"date\"],inplace=True)"
   ]
  },
  {
   "cell_type": "markdown",
   "metadata": {},
   "source": [
    "CHECKING DUPLICATES"
   ]
  },
  {
   "cell_type": "code",
   "execution_count": 18,
   "metadata": {},
   "outputs": [
    {
     "name": "stdout",
     "output_type": "stream",
     "text": [
      "0       False\n",
      "1       False\n",
      "2       False\n",
      "3       False\n",
      "4       False\n",
      "        ...  \n",
      "9995    False\n",
      "9996    False\n",
      "9997    False\n",
      "9998    False\n",
      "9999    False\n",
      "Length: 7981, dtype: bool\n"
     ]
    }
   ],
   "source": [
    "print(df.duplicated())"
   ]
  },
  {
   "cell_type": "markdown",
   "metadata": {},
   "source": [
    "REMOVE DUPLICATE VALUES"
   ]
  },
  {
   "cell_type": "code",
   "execution_count": 19,
   "metadata": {},
   "outputs": [],
   "source": [
    "df.drop_duplicates(inplace=True)"
   ]
  },
  {
   "cell_type": "markdown",
   "metadata": {},
   "source": [
    "CHECK OUTLIERS"
   ]
  },
  {
   "cell_type": "code",
   "execution_count": 20,
   "metadata": {},
   "outputs": [
    {
     "data": {
      "image/png": "[encoded data removed]",
      "text/plain": [
       "<Figure size 640x480 with 1 Axes>"
      ]
     },
     "metadata": {},
     "output_type": "display_data"
    }
   ],
   "source": [
    "import seaborn as sns\n",
    "import matplotlib.pyplot as plt\n",
    "sns.boxenplot(data=df)\n",
    "plt.xticks(rotation=45)\n",
    "plt.show()"
   ]
  },
  {
   "cell_type": "markdown",
   "metadata": {},
   "source": [
    "REMOVING OUTLIERS"
   ]
  },
  {
   "cell_type": "markdown",
   "metadata": {},
   "source": [
    "TO CHECK CORRELATION OF COLUMNS"
   ]
  },
  {
   "cell_type": "code",
   "execution_count": 21,
   "metadata": {},
   "outputs": [
    {
     "name": "stdout",
     "output_type": "stream",
     "text": [
      "             Quantity     Price  TotalAmount\n",
      "Quantity     1.000000 -0.001577     0.004528\n",
      "Price       -0.001577  1.000000     0.008290\n",
      "TotalAmount  0.004528  0.008290     1.000000\n"
     ]
    }
   ],
   "source": [
    "cor=df.corr(numeric_only=True)\n",
    "print(cor)"
   ]
  },
  {
   "cell_type": "code",
   "execution_count": 22,
   "metadata": {},
   "outputs": [
    {
     "data": {
      "image/png": "[encoded data removed]",
      "text/plain": [
       "<Figure size 640x480 with 2 Axes>"
      ]
     },
     "metadata": {},
     "output_type": "display_data"
    }
   ],
   "source": [
    "sns.heatmap(cor)\n",
    "plt.show()"
   ]
  },
  {
   "cell_type": "markdown",
   "metadata": {},
   "source": [
    "TO CHECK CO-VARIANCE OF COLUMNS"
   ]
  },
  {
   "cell_type": "code",
   "execution_count": 23,
   "metadata": {},
   "outputs": [
    {
     "name": "stdout",
     "output_type": "stream",
     "text": [
      "             Quantity         Price   TotalAmount\n",
      "Quantity     1.996796     -0.632246  9.248839e+00\n",
      "Price       -0.632246  80469.586322  3.399220e+03\n",
      "TotalAmount  9.248839   3399.220071  2.089543e+06\n"
     ]
    }
   ],
   "source": [
    "print(df.cov(numeric_only=True))"
   ]
  },
  {
   "cell_type": "markdown",
   "metadata": {},
   "source": [
    "TO CHECK STANDARD DEVIATION OF COLUMNS"
   ]
  },
  {
   "cell_type": "code",
   "execution_count": 24,
   "metadata": {},
   "outputs": [
    {
     "name": "stdout",
     "output_type": "stream",
     "text": [
      "Quantity          1.413080\n",
      "Price           283.671617\n",
      "TotalAmount    1445.525164\n",
      "dtype: float64\n"
     ]
    }
   ],
   "source": [
    "print(df.std(numeric_only=True)) "
   ]
  },
  {
   "cell_type": "markdown",
   "metadata": {},
   "source": []
  },
  {
   "cell_type": "code",
   "execution_count": 25,
   "metadata": {},
   "outputs": [
    {
     "name": "stdout",
     "output_type": "stream",
     "text": [
      "                                Date     Quantity        Price  TotalAmount  \\\n",
      "count                           7981  7981.000000  7981.000000  7981.000000   \n",
      "mean   2024-06-10 17:42:10.961032448     3.014033   514.447180  2514.788401   \n",
      "min              2024-01-01 00:00:00     1.000000    20.090000    20.320000   \n",
      "25%              2024-03-23 00:00:00     2.000000   270.180000  1257.900000   \n",
      "50%              2024-06-11 00:00:00     3.000000   516.020000  2484.680000   \n",
      "75%              2024-08-31 00:00:00     4.000000   765.610000  3772.050000   \n",
      "max              2024-11-20 00:00:00     5.000000   999.830000  4999.580000   \n",
      "std                              NaN     1.413080   283.671617  1445.525164   \n",
      "\n",
      "                                date  \n",
      "count                           7981  \n",
      "mean   2024-06-10 17:42:10.961032448  \n",
      "min              2024-01-01 00:00:00  \n",
      "25%              2024-03-23 00:00:00  \n",
      "50%              2024-06-11 00:00:00  \n",
      "75%              2024-08-31 00:00:00  \n",
      "max              2024-11-20 00:00:00  \n",
      "std                              NaN  \n"
     ]
    }
   ],
   "source": [
    "print(df.describe())"
   ]
  },
  {
   "cell_type": "markdown",
   "metadata": {},
   "source": [
    "1 HOW MANY PAYMENTS ARE THERE?"
   ]
  },
  {
   "cell_type": "code",
   "execution_count": 26,
   "metadata": {},
   "outputs": [
    {
     "name": "stdout",
     "output_type": "stream",
     "text": [
      "['Cash' 'Credit Card' 'Online']\n"
     ]
    }
   ],
   "source": [
    "payment_methods=df[\"PaymentMethod\"].unique()\n",
    "print(payment_methods)"
   ]
  },
  {
   "cell_type": "markdown",
   "metadata": {},
   "source": [
    "2 WHAT ARE THE VARIETY OF PRODUCTS ?"
   ]
  },
  {
   "cell_type": "code",
   "execution_count": 27,
   "metadata": {},
   "outputs": [
    {
     "name": "stdout",
     "output_type": "stream",
     "text": [
      "['Gaming Mouse' 'Smartphone' 'Laptop' 'Headphones' 'Smartwatch']\n"
     ]
    }
   ],
   "source": [
    "Products=df[\"ProductName\"].unique()\n",
    "print(Products)"
   ]
  },
  {
   "cell_type": "markdown",
   "metadata": {},
   "source": [
    "3 HOW MANY PENDING ORDERS ARE THERE ?"
   ]
  },
  {
   "cell_type": "code",
   "execution_count": 28,
   "metadata": {},
   "outputs": [
    {
     "name": "stdout",
     "output_type": "stream",
     "text": [
      "2633\n"
     ]
    }
   ],
   "source": [
    "pending_orders=df[df[\"OrderStatus\"]==\"Pending\"][\"OrderStatus\"].count()\n",
    "print(pending_orders)\n"
   ]
  },
  {
   "cell_type": "markdown",
   "metadata": {},
   "source": [
    "4 HOW MANY ORDERS ARE ARRIVED ON TIME?"
   ]
  },
  {
   "cell_type": "code",
   "execution_count": 29,
   "metadata": {},
   "outputs": [
    {
     "name": "stdout",
     "output_type": "stream",
     "text": [
      "1995\n"
     ]
    }
   ],
   "source": [
    "orders=df[df[\"CustomerFeedback\"]==\"Arrived on time\"][\"CustomerFeedback\"].count()\n",
    "print(orders)"
   ]
  },
  {
   "cell_type": "markdown",
   "metadata": {},
   "source": [
    "5 WHICH REGION HAS THE HIGHEST ORDER?"
   ]
  },
  {
   "cell_type": "code",
   "execution_count": 30,
   "metadata": {},
   "outputs": [
    {
     "name": "stdout",
     "output_type": "stream",
     "text": [
      "West Coast\n"
     ]
    }
   ],
   "source": [
    "highest=np.max(df[\"Region\"])\n",
    "print(highest)"
   ]
  },
  {
   "cell_type": "markdown",
   "metadata": {},
   "source": [
    "6.COMPARE WHICH TRANSACTION METHOD IS MOSTLY PREFERABLE?"
   ]
  },
  {
   "cell_type": "code",
   "execution_count": 31,
   "metadata": {},
   "outputs": [
    {
     "name": "stdout",
     "output_type": "stream",
     "text": [
      "Total cash transacions:2637\n",
      "Total credit transactions:2664\n",
      "Total online transacions:2680\n"
     ]
    }
   ],
   "source": [
    "cash_total=df[df[\"PaymentMethod\"]==\"Cash\"][\"TotalAmount\"].count()\n",
    "creditcard_total=df[df[\"PaymentMethod\"]==\"Credit Card\"][\"TotalAmount\"].count()\n",
    "online_total=df[df[\"PaymentMethod\"]==\"Online\"][\"TotalAmount\"].count()\n",
    "print(f\"Total cash transacions:{cash_total}\")\n",
    "print(f\"Total credit transactions:{creditcard_total}\")\n",
    "print(f\"Total online transacions:{online_total}\")"
   ]
  },
  {
   "cell_type": "code",
   "execution_count": 32,
   "metadata": {},
   "outputs": [
    {
     "data": {
      "image/png": "[encoded data removed]",
      "text/plain": [
       "<Figure size 640x480 with 1 Axes>"
      ]
     },
     "metadata": {},
     "output_type": "display_data"
    }
   ],
   "source": [
    "df[\"PaymentMethod\"].max()\n",
    "total=df.groupby(\"PaymentMethod\")[\"TotalAmount\"].sum()\n",
    "plt.pie(total,labels=total.index,autopct=\"%1.1f%%\",startangle=90)\n",
    "plt.axis(\"equal\")\n",
    "plt.show()"
   ]
  },
  {
   "cell_type": "markdown",
   "metadata": {},
   "source": [
    "7.WHICH PRODUCT HAS THE HIGHEST PRICE?"
   ]
  },
  {
   "cell_type": "code",
   "execution_count": 33,
   "metadata": {},
   "outputs": [
    {
     "data": {
      "image/png": "[encoded data removed]",
      "text/plain": [
       "<Figure size 640x480 with 1 Axes>"
      ]
     },
     "metadata": {},
     "output_type": "display_data"
    },
    {
     "name": "stdout",
     "output_type": "stream",
     "text": [
      "ProductName\n",
      "Gaming Mouse    824938.83\n",
      "Headphones      811498.10\n",
      "Laptop          841881.02\n",
      "Smartphone      805768.07\n",
      "Smartwatch      821716.92\n",
      "Name: Price, dtype: float64\n"
     ]
    }
   ],
   "source": [
    "df[\"ProductName\"].max()\n",
    "total=df.groupby(\"ProductName\")[\"Price\"].sum()\n",
    "plt.pie(total,labels=total.index,autopct=\"%1.1f%%\",startangle=90)\n",
    "plt.axis(\"equal\")\n",
    "plt.show()\n",
    "print(total)"
   ]
  },
  {
   "cell_type": "markdown",
   "metadata": {},
   "source": [
    "8.WHICH CUSTOMER ORDERED MORE PRODUCTS?"
   ]
  },
  {
   "cell_type": "code",
   "execution_count": 34,
   "metadata": {},
   "outputs": [
    {
     "name": "stdout",
     "output_type": "stream",
     "text": [
      "Zoe Lee MD\n"
     ]
    }
   ],
   "source": [
    "highest=np.max(df[\"CustomerName\"])\n",
    "print(highest)\n"
   ]
  },
  {
   "cell_type": "markdown",
   "metadata": {},
   "source": [
    "9.WHICH REGION HAS LOWEST ORDER?"
   ]
  },
  {
   "cell_type": "code",
   "execution_count": 35,
   "metadata": {},
   "outputs": [
    {
     "name": "stdout",
     "output_type": "stream",
     "text": [
      "North East\n"
     ]
    }
   ],
   "source": [
    "Lowest=np.min(df[\"Region\"])\n",
    "print(Lowest)"
   ]
  },
  {
   "cell_type": "markdown",
   "metadata": {},
   "source": [
    "10 HOW MUCH QUANTITY OF PRODUCTS SOLD IN BETWEEN 1-1-2024 TO 31-10-2024 ?"
   ]
  },
  {
   "cell_type": "code",
   "execution_count": 36,
   "metadata": {},
   "outputs": [
    {
     "name": "stdout",
     "output_type": "stream",
     "text": [
      "0       1\n",
      "1       3\n",
      "2       4\n",
      "3       4\n",
      "4       3\n",
      "       ..\n",
      "9995    3\n",
      "9996    5\n",
      "9997    2\n",
      "9998    1\n",
      "9999    5\n",
      "Name: Quantity, Length: 7508, dtype: int64\n"
     ]
    }
   ],
   "source": [
    "df[\"Date\"]=pd.to_datetime(df[\"Date\"])\n",
    "start_date=\"2024-01-01\"\n",
    "end_date=\"2024-10-31\"\n",
    "items=df[(df[\"Date\"]>=start_date)&(df[\"Date\"]<=end_date)]\n",
    "num=len(items)\n",
    "total=items[\"Quantity\"]\n",
    "print(total)"
   ]
  },
  {
   "cell_type": "markdown",
   "metadata": {},
   "source": [
    "11 WHICH DAY HAS THE HIGHEST ORDER ?\n"
   ]
  },
  {
   "cell_type": "code",
   "execution_count": 37,
   "metadata": {},
   "outputs": [
    {
     "name": "stdout",
     "output_type": "stream",
     "text": [
      "2024-04-09 00:00:00\n"
     ]
    }
   ],
   "source": [
    "df[\"Date\"]=pd.to_datetime(df[\"Date\"])\n",
    "high_order=df.loc[df['Quantity'].idxmax()][\"Date\"]\n",
    "print(high_order)\n"
   ]
  },
  {
   "cell_type": "markdown",
   "metadata": {},
   "source": [
    "12 WHICH CUSTOMER ORDERED MORE PRODUCTS ?\n"
   ]
  },
  {
   "cell_type": "code",
   "execution_count": 38,
   "metadata": {},
   "outputs": [
    {
     "name": "stdout",
     "output_type": "stream",
     "text": [
      "\n",
      "           CustomerName  Quantity  count\n",
      "0           Aaron Adams         1      1\n",
      "1           Aaron Brown         1      1\n",
      "2           Aaron Brown         5      1\n",
      "3           Aaron Bryan         5      1\n",
      "4        Aaron Callahan         1      1\n",
      "...                 ...       ...    ...\n",
      "7886   Zachary Thompson         5      1\n",
      "7887  Zachary Velasquez         3      1\n",
      "7888      Zachary Walls         3      1\n",
      "7889         Zoe Gordon         1      1\n",
      "7890         Zoe Lee MD         4      1\n",
      "\n",
      "[7891 rows x 3 columns]\n"
     ]
    }
   ],
   "source": [
    "cus_order=df.groupby(\"CustomerName\")[\"Quantity\"].value_counts().reset_index()\n",
    "most=cus_order.loc[cus_order['Quantity'].idxmax()]\n",
    "print(\"\")\n",
    "print(cus_order)"
   ]
  },
  {
   "cell_type": "markdown",
   "metadata": {},
   "source": [
    "13 WHICH REGION HAS LOWEST ORDER ?"
   ]
  },
  {
   "cell_type": "code",
   "execution_count": 39,
   "metadata": {},
   "outputs": [
    {
     "name": "stdout",
     "output_type": "stream",
     "text": [
      "North East\n"
     ]
    }
   ],
   "source": [
    "Lowest=np.min(df[\"Region\"])\n",
    "print(Lowest)"
   ]
  },
  {
   "cell_type": "markdown",
   "metadata": {},
   "source": [
    "14 HOW MANY ORDER ARE IN ONLINE PAYMENT ?\n"
   ]
  },
  {
   "cell_type": "code",
   "execution_count": 40,
   "metadata": {},
   "outputs": [
    {
     "name": "stdout",
     "output_type": "stream",
     "text": [
      "2680\n"
     ]
    }
   ],
   "source": [
    "online_total=df[df[\"PaymentMethod\"]==\"Online\"][\"TotalAmount\"].count()\n",
    "print(online_total)"
   ]
  },
  {
   "cell_type": "markdown",
   "metadata": {},
   "source": [
    "15 WHAT IS THE TOTAL QUANTITY OF SMARTWATCH ?"
   ]
  },
  {
   "cell_type": "code",
   "execution_count": 41,
   "metadata": {},
   "outputs": [
    {
     "name": "stdout",
     "output_type": "stream",
     "text": [
      "1602\n"
     ]
    }
   ],
   "source": [
    "smartwatches=df[df[\"ProductName\"]==\"Smartwatch\"][\"ProductName\"].count()\n",
    "print(smartwatches)"
   ]
  },
  {
   "cell_type": "markdown",
   "metadata": {
    "slideshow": {
     "slide_type": "fragment"
    }
   },
   "source": [
    "### conclusion\n",
    "\n",
    "\n",
    "The dataset reveals key insights about the transactions. A total of 10,000 payments were recorded, with customers purchasing 5 distinct product varieties. Among these, 3,273 orders are still pending, while 1,995 orders were delivered on time. The North West region placed the highest number of orders, whereas the South East had the lowest. Credit cards emerged as the most preferred payment method. The product with the highest price was Headphones, while Michael Jones stood out as the customer with the largest number of orders. Between January 1 and October 31, 2024, a total of 28,333 units were sold, with April 9, 2024, recording the highest daily order volume. Online payments accounted for 3,326 transactions, but interestingly, no Smart Watches were sold during this period.\n"
   ]
  },
  {
   "cell_type": "markdown",
   "metadata": {},
   "source": []
  }
 ],
 "metadata": {
  "kernelspec": {
   "display_name": "Python 3",
   "language": "python",
   "name": "python3"
  },
  "language_info": {
   "codemirror_mode": {
    "name": "ipython",
    "version": 3
   },
   "file_extension": ".py",
   "mimetype": "text/x-python",
   "name": "python",
   "nbconvert_exporter": "python",
   "pygments_lexer": "ipython3",
   "version": "3.10.11"
  }
 },
 "nbformat": 4,
 "nbformat_minor": 2
}
